{
  "cells": [
    {
      "cell_type": "markdown",
      "metadata": {
        "id": "uXWeOvGmuf1_"
      },
      "source": [
        "# Multivariate Time Series Forecasting with LSTM\n",
        "\n",
        "Neural networks like Long Short-Term Memory (LSTM) recurrent neural networks are able to almost seamlessly model problems with multiple input variables.\n",
        "This is a great benefit in time series forecasting, where classical linear methods can be difficult to adapt to multivariate or multiple input forecasting problems."
      ]
    },
    {
      "cell_type": "code",
      "source": [
        "from google.colab import drive\n",
        "drive.mount('/content/drive')"
      ],
      "metadata": {
        "colab": {
          "base_uri": "https://localhost:8080/"
        },
        "id": "Dg3h0fOVusAv",
        "outputId": "34d8417d-59e7-40ec-f35c-cca8a9297c27"
      },
      "execution_count": 1,
      "outputs": [
        {
          "output_type": "stream",
          "name": "stdout",
          "text": [
            "Mounted at /content/drive\n"
          ]
        }
      ]
    },
    {
      "cell_type": "code",
      "execution_count": 8,
      "metadata": {
        "id": "xll8tA42uf2C"
      },
      "outputs": [],
      "source": [
        "from datetime import datetime\n",
        "import numpy as np\n",
        "import pandas as pd\n",
        "import pylab\n",
        "import calendar\n",
        "from scipy import stats\n",
        "import seaborn as sns\n",
        "from sklearn import model_selection, preprocessing\n",
        "from scipy.stats import kendalltau\n",
        "from sklearn.metrics import mean_squared_error\n",
        "import warnings\n",
        "import matplotlib.pyplot as plt\n",
        "\n",
        "# Keras imports\n",
        "from keras.models import Sequential\n",
        "from keras.layers import Dense, LSTM, Dropout, BatchNormalization, PReLU\n",
        "from keras.optimizers import Adam\n",
        "from keras import callbacks\n",
        "from keras.callbacks import ModelCheckpoint\n",
        "\n",
        "# Use SciKeras for scikit-learn compatibility\n",
        "from scikeras.wrappers import KerasRegressor\n",
        "\n",
        "# Scikit-learn imports\n",
        "from sklearn.model_selection import cross_val_score, KFold\n",
        "from sklearn.preprocessing import MinMaxScaler, LabelEncoder\n",
        "from sklearn.pipeline import Pipeline"
      ]
    },
    {
      "cell_type": "code",
      "execution_count": 9,
      "metadata": {
        "colab": {
          "base_uri": "https://localhost:8080/"
        },
        "id": "Y1DyDD0Muf2E",
        "outputId": "0106c0c5-27cc-4532-dcf7-78dcd5bd7bcd"
      },
      "outputs": [
        {
          "output_type": "stream",
          "name": "stdout",
          "text": [
            "Loading train, prop and sample data\n"
          ]
        },
        {
          "output_type": "stream",
          "name": "stderr",
          "text": [
            "<ipython-input-9-347a3d0fc92e>:3: DtypeWarning: Columns (22,32,34,49,55) have mixed types. Specify dtype option on import or set low_memory=False.\n",
            "  prop = pd.read_csv('/content/drive/MyDrive/zillow-prize-1/properties_2016.csv')\n"
          ]
        }
      ],
      "source": [
        "print('Loading train, prop and sample data')\n",
        "train = pd.read_csv(\"/content/drive/MyDrive/zillow-prize-1/train_2016_v2.csv\", parse_dates=[\"transactiondate\"])\n",
        "prop = pd.read_csv('/content/drive/MyDrive/zillow-prize-1/properties_2016.csv')\n",
        "sample = pd.read_csv('/content/drive/MyDrive/zillow-prize-1/sample_submission.csv')"
      ]
    },
    {
      "cell_type": "markdown",
      "metadata": {
        "id": "kc3HscL2uf2F"
      },
      "source": [
        "###### Label Encoder\n",
        "LabelEncoder is a utility class to help normalize labels categorical values and to encode such that they contain only values between 0 and n_classes-1.\n",
        "\n",
        "Here, we LabelEncode the properties dataset."
      ]
    },
    {
      "cell_type": "code",
      "execution_count": 10,
      "metadata": {
        "colab": {
          "base_uri": "https://localhost:8080/"
        },
        "id": "Lml9gdU8uf2F",
        "outputId": "aa77ece3-52e7-48c6-af22-97e3333b3648"
      },
      "outputs": [
        {
          "output_type": "stream",
          "name": "stdout",
          "text": [
            "Fitting Label Encoder on properties\n"
          ]
        }
      ],
      "source": [
        "print('Fitting Label Encoder on properties')\n",
        "for c in prop.columns:\n",
        "    prop[c]=prop[c].fillna(-1)\n",
        "    if prop[c].dtype == 'object':\n",
        "        lbl = LabelEncoder()\n",
        "        lbl.fit(list(prop[c].values))\n",
        "        prop[c] = lbl.transform(list(prop[c].values))"
      ]
    },
    {
      "cell_type": "code",
      "execution_count": 11,
      "metadata": {
        "colab": {
          "base_uri": "https://localhost:8080/"
        },
        "id": "72evEn1Kuf2G",
        "outputId": "0173edf0-8295-4e2d-ead2-a5cc25b2b5d4"
      },
      "outputs": [
        {
          "output_type": "stream",
          "name": "stdout",
          "text": [
            "Creating training set:\n",
            "Creating df_test  :\n",
            "Merge Sample with property data :\n"
          ]
        }
      ],
      "source": [
        "print('Creating training set:')\n",
        "df_train = train.merge(prop, how='left', on='parcelid')\n",
        "\n",
        "print('Creating df_test  :')\n",
        "sample['parcelid'] = sample['ParcelId']\n",
        "\n",
        "print(\"Merge Sample with property data :\")\n",
        "df_test = sample.merge(prop, on='parcelid', how='left')"
      ]
    },
    {
      "cell_type": "code",
      "execution_count": 12,
      "metadata": {
        "id": "ej8k6W2vuf2G"
      },
      "outputs": [],
      "source": [
        "df_train[\"transactiondate\"] = pd.to_datetime(df_train[\"transactiondate\"])\n",
        "df_train['transactiondate_quarter'] = df_train['transactiondate'].dt.quarter\n",
        "\n",
        "basedate = pd.to_datetime('2015-11-15').toordinal()\n",
        "df_train['cos_season'] = \\\n",
        "        ( (pd.to_datetime(df_train['transactiondate']).apply(lambda x: x.toordinal()-basedate)) * \\\n",
        "          (2*np.pi/365.25) ).apply(np.cos)\n",
        "df_train['sin_season'] = \\\n",
        "        ( (pd.to_datetime(df_train['transactiondate']).apply(lambda x: x.toordinal()-basedate)) * \\\n",
        "          (2*np.pi/365.25) ).apply(np.sin)\n",
        "\n",
        "#test dataset\n",
        "df_test[\"transactiondate\"] = pd.to_datetime('2016-11-15')\n",
        "df_test['transactiondate_quarter'] = df_test['transactiondate'].dt.quarter\n",
        "\n",
        "df_test['cos_season'] = np.cos( (pd.to_datetime('2016-11-15').toordinal() - basedate) * \\\n",
        "                                    (2*np.pi/365.25) )\n",
        "df_test['sin_season'] = np.sin( (pd.to_datetime('2016-11-15').toordinal() - basedate) * \\\n",
        "                                    (2*np.pi/365.25) )\n",
        "\n",
        "df_train_x = df_train.drop(['logerror','parcelid', 'transactiondate', 'propertyzoningdesc', 'propertycountylandusecode',\n",
        "                             'fireplacecnt', 'fireplaceflag'],axis=1)\n",
        "df_train = df_train.drop(['parcelid', 'transactiondate', 'propertyzoningdesc', 'propertycountylandusecode',\n",
        "                             'fireplacecnt', 'fireplaceflag'], axis=1)\n",
        "\n",
        "train_columns = df_train_x.columns\n",
        "df_test=df_test[train_columns]"
      ]
    },
    {
      "cell_type": "markdown",
      "metadata": {
        "id": "990X2beWuf2G"
      },
      "source": [
        "#### LSTM Data Preparation\n",
        "The first step is to prepare properties dataset for LSTM.This involves framing the dataset as a supervised learning problem and normalizing the input variables.\n",
        "We will frame the supervised learning problem as predicting the Log Error for a particular parcel Id given other features and conditions at the prior time step.\n",
        "\n",
        "We can transform the dataset using the series_to_supervised() function that is developed below;"
      ]
    },
    {
      "cell_type": "code",
      "execution_count": 13,
      "metadata": {
        "id": "XTMPU1Yiuf2H"
      },
      "outputs": [],
      "source": [
        "def series_to_supervised(data, n_in=1, n_out=1, dropnan=True):\n",
        "    n_vars = 1 if type(data) is list else data.shape[1]\n",
        "    df = pd.DataFrame(data)\n",
        "    cols, names = list(), list()\n",
        "    # input sequence (t-n, ... t-1)\n",
        "    for i in range(n_in, 0, -1):\n",
        "        cols.append(df.shift(i))\n",
        "        names += [('var%d(t-%d)' % (j+1, i)) for j in range(n_vars)]\n",
        "    # forecast sequence (t, t+1, ... t+n)\n",
        "    for i in range(0, n_out):\n",
        "        cols.append(df.shift(-i))\n",
        "        if i == 0:\n",
        "            names += [('var%d(t)' % (j+1)) for j in range(n_vars)]\n",
        "        else:\n",
        "            names += [('var%d(t+%d)' % (j+1, i)) for j in range(n_vars)]\n",
        "    # put it all together\n",
        "    agg = pd.concat(cols, axis=1)\n",
        "    agg.columns = names\n",
        "    # drop rows with NaN values\n",
        "    if dropnan:\n",
        "        agg.dropna(inplace=True)\n",
        "    return agg"
      ]
    },
    {
      "cell_type": "code",
      "execution_count": 14,
      "metadata": {
        "id": "LRO2d3UCuf2H"
      },
      "outputs": [],
      "source": [
        "Values = df_train.values\n",
        "test_values = df_test.values\n",
        "values = Values.astype('float32')\n",
        "test_values = test_values.astype('float32')\n",
        "scaler = MinMaxScaler(feature_range=(0, 1))\n",
        "scaled = scaler.fit_transform(values)\n",
        "scaled_test = scaler.fit_transform(test_values)\n",
        "reframed = series_to_supervised(scaled, 1, 1)\n",
        "reframed_test = series_to_supervised(scaled,1,1)\n",
        "reframed.drop(reframed.columns[58:116], axis=1, inplace=True)\n",
        "reframed_test.drop(reframed_test.columns[56:111],axis =1,inplace=True)\n",
        "\n",
        "train_X, train_Y = reframed.iloc[:80000,:-1], reframed.iloc[:80000,-1]\n",
        "valid_X, valid_Y = reframed.iloc[80000:,:-1], reframed.iloc[80000:,-1]\n",
        "\n",
        "train_X = np.array(train_X)\n",
        "train_Y = np.array(train_Y)\n",
        "\n",
        "valid_X = np.array(valid_X)\n",
        "valid_Y = np.array(valid_Y)\n",
        "test_X = np.array(reframed_test)"
      ]
    },
    {
      "cell_type": "code",
      "execution_count": 15,
      "metadata": {
        "colab": {
          "base_uri": "https://localhost:8080/"
        },
        "id": "08cE0Zifuf2I",
        "outputId": "6366528c-34c0-4133-94cc-aec42ef4906f"
      },
      "outputs": [
        {
          "output_type": "stream",
          "name": "stdout",
          "text": [
            "(80000, 1, 57) (80000,) (10274, 1, 57) (10274,) (90274, 1, 59)\n"
          ]
        }
      ],
      "source": [
        "train_X = train_X.reshape((train_X.shape[0], 1, train_X.shape[1]))\n",
        "valid_X = valid_X.reshape((valid_X.shape[0], 1, valid_X.shape[1]))\n",
        "test_X = test_X.reshape((test_X.shape[0], 1, test_X.shape[1]))\n",
        "print(train_X.shape, train_Y.shape, valid_X.shape, valid_Y.shape,test_X.shape)"
      ]
    },
    {
      "cell_type": "code",
      "execution_count": 16,
      "metadata": {
        "colab": {
          "base_uri": "https://localhost:8080/"
        },
        "id": "DvS99pIpuf2I",
        "outputId": "e5bf1ea8-5f2a-484d-ffae-7012b69b22c7"
      },
      "outputs": [
        {
          "output_type": "stream",
          "name": "stderr",
          "text": [
            "/usr/local/lib/python3.10/dist-packages/keras/src/layers/rnn/rnn.py:204: UserWarning: Do not pass an `input_shape`/`input_dim` argument to a layer. When using Sequential models, prefer using an `Input(shape)` object as the first layer in the model instead.\n",
            "  super().__init__(**kwargs)\n"
          ]
        },
        {
          "output_type": "stream",
          "name": "stdout",
          "text": [
            "Epoch 1/50\n",
            "1112/1112 - 5s - 4ms/step - loss: 0.0171 - val_loss: 0.0490\n",
            "Epoch 2/50\n",
            "1112/1112 - 6s - 5ms/step - loss: 0.0086 - val_loss: 0.0452\n",
            "Epoch 3/50\n",
            "1112/1112 - 5s - 5ms/step - loss: 0.0083 - val_loss: 0.0382\n",
            "Epoch 4/50\n",
            "1112/1112 - 2s - 2ms/step - loss: 0.0082 - val_loss: 0.0332\n",
            "Epoch 5/50\n",
            "1112/1112 - 3s - 2ms/step - loss: 0.0081 - val_loss: 0.0282\n",
            "Epoch 6/50\n",
            "1112/1112 - 5s - 4ms/step - loss: 0.0079 - val_loss: 0.0235\n",
            "Epoch 7/50\n",
            "1112/1112 - 3s - 2ms/step - loss: 0.0078 - val_loss: 0.0207\n",
            "Epoch 8/50\n",
            "1112/1112 - 2s - 2ms/step - loss: 0.0078 - val_loss: 0.0180\n",
            "Epoch 9/50\n",
            "1112/1112 - 4s - 3ms/step - loss: 0.0077 - val_loss: 0.0156\n",
            "Epoch 10/50\n",
            "1112/1112 - 5s - 4ms/step - loss: 0.0077 - val_loss: 0.0134\n",
            "Epoch 11/50\n",
            "1112/1112 - 5s - 5ms/step - loss: 0.0077 - val_loss: 0.0119\n",
            "Epoch 12/50\n",
            "1112/1112 - 3s - 2ms/step - loss: 0.0076 - val_loss: 0.0109\n",
            "Epoch 13/50\n",
            "1112/1112 - 4s - 3ms/step - loss: 0.0076 - val_loss: 0.0098\n",
            "Epoch 14/50\n",
            "1112/1112 - 4s - 3ms/step - loss: 0.0076 - val_loss: 0.0090\n",
            "Epoch 15/50\n",
            "1112/1112 - 4s - 4ms/step - loss: 0.0076 - val_loss: 0.0090\n",
            "Epoch 16/50\n",
            "1112/1112 - 5s - 4ms/step - loss: 0.0075 - val_loss: 0.0081\n",
            "Epoch 17/50\n",
            "1112/1112 - 4s - 4ms/step - loss: 0.0076 - val_loss: 0.0080\n",
            "Epoch 18/50\n",
            "1112/1112 - 3s - 3ms/step - loss: 0.0075 - val_loss: 0.0078\n",
            "Epoch 19/50\n",
            "1112/1112 - 3s - 2ms/step - loss: 0.0075 - val_loss: 0.0078\n",
            "Epoch 20/50\n",
            "1112/1112 - 3s - 2ms/step - loss: 0.0075 - val_loss: 0.0075\n",
            "Epoch 21/50\n",
            "1112/1112 - 3s - 2ms/step - loss: 0.0075 - val_loss: 0.0075\n",
            "Epoch 22/50\n",
            "1112/1112 - 5s - 4ms/step - loss: 0.0075 - val_loss: 0.0075\n",
            "Epoch 23/50\n",
            "1112/1112 - 2s - 2ms/step - loss: 0.0075 - val_loss: 0.0075\n",
            "Epoch 24/50\n",
            "1112/1112 - 2s - 2ms/step - loss: 0.0075 - val_loss: 0.0074\n",
            "Epoch 25/50\n",
            "1112/1112 - 4s - 3ms/step - loss: 0.0075 - val_loss: 0.0073\n",
            "Epoch 26/50\n",
            "1112/1112 - 6s - 5ms/step - loss: 0.0075 - val_loss: 0.0074\n",
            "Epoch 27/50\n",
            "1112/1112 - 3s - 3ms/step - loss: 0.0075 - val_loss: 0.0075\n",
            "Epoch 28/50\n",
            "1112/1112 - 2s - 2ms/step - loss: 0.0075 - val_loss: 0.0074\n",
            "Epoch 29/50\n",
            "1112/1112 - 3s - 2ms/step - loss: 0.0075 - val_loss: 0.0074\n",
            "Epoch 30/50\n",
            "1112/1112 - 3s - 3ms/step - loss: 0.0075 - val_loss: 0.0073\n",
            "Epoch 31/50\n",
            "1112/1112 - 4s - 3ms/step - loss: 0.0075 - val_loss: 0.0073\n",
            "Epoch 32/50\n",
            "1112/1112 - 4s - 3ms/step - loss: 0.0075 - val_loss: 0.0073\n",
            "Epoch 33/50\n",
            "1112/1112 - 3s - 2ms/step - loss: 0.0075 - val_loss: 0.0073\n",
            "Epoch 34/50\n",
            "1112/1112 - 2s - 2ms/step - loss: 0.0075 - val_loss: 0.0073\n",
            "Epoch 35/50\n",
            "1112/1112 - 3s - 3ms/step - loss: 0.0075 - val_loss: 0.0073\n",
            "Epoch 36/50\n",
            "1112/1112 - 4s - 4ms/step - loss: 0.0075 - val_loss: 0.0073\n",
            "Epoch 37/50\n",
            "1112/1112 - 4s - 3ms/step - loss: 0.0075 - val_loss: 0.0073\n",
            "Epoch 38/50\n",
            "1112/1112 - 3s - 2ms/step - loss: 0.0075 - val_loss: 0.0073\n",
            "Epoch 39/50\n",
            "1112/1112 - 2s - 2ms/step - loss: 0.0075 - val_loss: 0.0073\n",
            "Epoch 40/50\n",
            "1112/1112 - 4s - 4ms/step - loss: 0.0075 - val_loss: 0.0074\n",
            "Epoch 41/50\n",
            "1112/1112 - 4s - 3ms/step - loss: 0.0075 - val_loss: 0.0073\n",
            "Epoch 42/50\n",
            "1112/1112 - 3s - 2ms/step - loss: 0.0074 - val_loss: 0.0073\n",
            "Epoch 43/50\n",
            "1112/1112 - 3s - 2ms/step - loss: 0.0075 - val_loss: 0.0073\n",
            "Epoch 44/50\n",
            "1112/1112 - 3s - 2ms/step - loss: 0.0075 - val_loss: 0.0073\n",
            "Epoch 45/50\n",
            "1112/1112 - 5s - 4ms/step - loss: 0.0075 - val_loss: 0.0073\n",
            "Epoch 46/50\n",
            "1112/1112 - 3s - 2ms/step - loss: 0.0074 - val_loss: 0.0073\n",
            "Epoch 47/50\n",
            "1112/1112 - 3s - 2ms/step - loss: 0.0074 - val_loss: 0.0073\n",
            "Epoch 48/50\n",
            "1112/1112 - 3s - 2ms/step - loss: 0.0074 - val_loss: 0.0073\n",
            "Epoch 49/50\n",
            "1112/1112 - 5s - 5ms/step - loss: 0.0074 - val_loss: 0.0073\n",
            "Epoch 50/50\n",
            "1112/1112 - 5s - 4ms/step - loss: 0.0074 - val_loss: 0.0074\n",
            "\u001b[1m322/322\u001b[0m \u001b[32m━━━━━━━━━━━━━━━━━━━━\u001b[0m\u001b[37m\u001b[0m \u001b[1m1s\u001b[0m 2ms/step\n",
            "Test RMSE: 0.016\n"
          ]
        }
      ],
      "source": [
        "model = Sequential()\n",
        "model.add(LSTM(50, input_shape=(train_X.shape[1], train_X.shape[2])))\n",
        "model.add(Dense(1))\n",
        "model.compile(loss='mae', optimizer='adam')\n",
        "# fit network\n",
        "model.fit(train_X, train_Y, epochs=50, batch_size=72, validation_data=(valid_X, valid_Y), verbose=2, shuffle=False)\n",
        "yhat = model.predict(valid_X)\n",
        "valid_X = valid_X.reshape((valid_X.shape[0], valid_X.shape[2]))\n",
        "\n",
        "rmse = np.sqrt(mean_squared_error(valid_Y, yhat))\n",
        "print('Test RMSE: %.3f' % rmse)"
      ]
    },
    {
      "cell_type": "markdown",
      "metadata": {
        "id": "J3sR98K-uf2I"
      },
      "source": [
        "# Summary:\n",
        "\n",
        "In this notebook, we have implemented Simple neural networks with 5 layers for prediction of LogError = (log(Zestimate)-log(salesprice)) using 2016 property dataset and its corresponding log error values provided by zillow for home value prediction in Python using Keras and tensorflow deep learning libraries.\n",
        "\n",
        "Finally, we have predicted logerror values of 2016 and 2017 for the last quarter (from November to December) in the test dataset.\n",
        "Calculated RMSE for the Network built can be seen as 0.017 which is improved from that which we got by simple neural network. we can aslo infer that there is minimal error in the logerror gives us the better predictions.Further, the model can improvised by add more layers or changing the backpropagation parameters.\n"
      ]
    }
  ],
  "metadata": {
    "kernelspec": {
      "display_name": "Python 3",
      "language": "python",
      "name": "python3"
    },
    "language_info": {
      "codemirror_mode": {
        "name": "ipython",
        "version": 3
      },
      "file_extension": ".py",
      "mimetype": "text/x-python",
      "name": "python",
      "nbconvert_exporter": "python",
      "pygments_lexer": "ipython3",
      "version": "3.6.5"
    },
    "colab": {
      "provenance": []
    }
  },
  "nbformat": 4,
  "nbformat_minor": 0
}